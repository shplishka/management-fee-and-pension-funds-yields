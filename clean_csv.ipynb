{
 "cells": [
  {
   "cell_type": "code",
   "execution_count": 1,
   "metadata": {},
   "outputs": [],
   "source": [
    "import pandas as pd\n",
    "import os\n",
    "import numpy as np\n",
    "directory = './data/'"
   ]
  },
  {
   "cell_type": "code",
   "execution_count": 7,
   "metadata": {},
   "outputs": [],
   "source": [
    "def clean_dataframe(dataframe):\n",
    "    dataframe = dataframe[['FUND_NAME', 'FUND_CLASSIFICATION','REPORT_PERIOD','MONTHLY_YIELD','AVG_ANNUAL_MANAGEMENT_FEE','TOTAL_ASSETS']]\n",
    "    filtered_df = dataframe[dataframe['MONTHLY_YIELD'].notnull()]\n",
    "    filtered_df = filtered_df[filtered_df['AVG_ANNUAL_MANAGEMENT_FEE'].notnull()]\n",
    "    filtered_df.loc[filtered_df['FUND_CLASSIFICATION'] == 'קרנות חדשות']\n",
    "    filtered_df.loc[filtered_df['TOTAL_ASSETS'] >= 10]\n",
    "    return filtered_df"
   ]
  },
  {
   "cell_type": "code",
   "execution_count": 8,
   "metadata": {},
   "outputs": [
    {
     "name": "stdout",
     "output_type": "stream",
     "text": [
      "clean and filter the file: pensianet_investment_2019.csv\n",
      "file result shape: (1080, 6)\n",
      "clean and filter the file: pensianet_investment_2016.csv\n",
      "file result shape: (1753, 6)\n",
      "clean and filter the file: pensianet_investment_2017.csv\n",
      "file result shape: (1851, 6)\n",
      "clean and filter the file: pensianet_investment_2015.csv\n",
      "file result shape: (1028, 6)\n",
      "clean and filter the file: pensianet_investment_2018.csv\n",
      "file result shape: (1921, 6)\n"
     ]
    }
   ],
   "source": [
    "csv_arr = []\n",
    "for filename in os.listdir(directory):\n",
    "    if filename.endswith(\".csv\"):\n",
    "        print(\"clean and filter the file: \"+filename)\n",
    "        data = pd.read_csv(directory + filename,encoding='cp1255',\n",
    "                           dtype={'FUND_NAME':str,\n",
    "                                  'FUND_CLASSIFICATION':str,\n",
    "                                  'REPORT_PERIOD':str,\n",
    "                                  'MONTHLY_YIELD':np.float64,\n",
    "                                  'AVG_ANNUAL_MANAGEMENT_FEE':np.float64,\n",
    "                                  'TOTAL_ASSETS':np.float64}) \n",
    "        result_df =  clean_dataframe(data)\n",
    "        print(\"file result shape: %s\" % (result_df.shape,))\n",
    "        csv_arr.append(result_df)"
   ]
  },
  {
   "cell_type": "code",
   "execution_count": 9,
   "metadata": {},
   "outputs": [
    {
     "name": "stdout",
     "output_type": "stream",
     "text": [
      "final csv shape: (7633, 6)\n"
     ]
    },
    {
     "data": {
      "text/html": [
       "<div>\n",
       "<style scoped>\n",
       "    .dataframe tbody tr th:only-of-type {\n",
       "        vertical-align: middle;\n",
       "    }\n",
       "\n",
       "    .dataframe tbody tr th {\n",
       "        vertical-align: top;\n",
       "    }\n",
       "\n",
       "    .dataframe thead th {\n",
       "        text-align: right;\n",
       "    }\n",
       "</style>\n",
       "<table border=\"1\" class=\"dataframe\">\n",
       "  <thead>\n",
       "    <tr style=\"text-align: right;\">\n",
       "      <th></th>\n",
       "      <th>FUND_NAME</th>\n",
       "      <th>FUND_CLASSIFICATION</th>\n",
       "      <th>REPORT_PERIOD</th>\n",
       "      <th>MONTHLY_YIELD</th>\n",
       "      <th>AVG_ANNUAL_MANAGEMENT_FEE</th>\n",
       "      <th>TOTAL_ASSETS</th>\n",
       "    </tr>\n",
       "  </thead>\n",
       "  <tbody>\n",
       "    <tr>\n",
       "      <th>2048</th>\n",
       "      <td>אלטשולר שחם פנסיה מקיפה מניות</td>\n",
       "      <td>קרנות חדשות</td>\n",
       "      <td>201808</td>\n",
       "      <td>3.05</td>\n",
       "      <td>0.23</td>\n",
       "      <td>10.93</td>\n",
       "    </tr>\n",
       "    <tr>\n",
       "      <th>2049</th>\n",
       "      <td>אלטשולר שחם פנסיה מקיפה מניות</td>\n",
       "      <td>קרנות חדשות</td>\n",
       "      <td>201809</td>\n",
       "      <td>-0.45</td>\n",
       "      <td>0.23</td>\n",
       "      <td>12.02</td>\n",
       "    </tr>\n",
       "    <tr>\n",
       "      <th>2050</th>\n",
       "      <td>אלטשולר שחם פנסיה מקיפה מניות</td>\n",
       "      <td>קרנות חדשות</td>\n",
       "      <td>201810</td>\n",
       "      <td>-5.15</td>\n",
       "      <td>0.23</td>\n",
       "      <td>15.29</td>\n",
       "    </tr>\n",
       "    <tr>\n",
       "      <th>2051</th>\n",
       "      <td>אלטשולר שחם פנסיה מקיפה מניות</td>\n",
       "      <td>קרנות חדשות</td>\n",
       "      <td>201811</td>\n",
       "      <td>1.14</td>\n",
       "      <td>0.23</td>\n",
       "      <td>20.26</td>\n",
       "    </tr>\n",
       "    <tr>\n",
       "      <th>2052</th>\n",
       "      <td>אלטשולר שחם פנסיה מקיפה מניות</td>\n",
       "      <td>קרנות חדשות</td>\n",
       "      <td>201812</td>\n",
       "      <td>-5.79</td>\n",
       "      <td>0.23</td>\n",
       "      <td>25.64</td>\n",
       "    </tr>\n",
       "  </tbody>\n",
       "</table>\n",
       "</div>"
      ],
      "text/plain": [
       "                           FUND_NAME FUND_CLASSIFICATION REPORT_PERIOD  \\\n",
       "2048  אלטשולר שחם פנסיה מקיפה מניות          קרנות חדשות        201808   \n",
       "2049  אלטשולר שחם פנסיה מקיפה מניות          קרנות חדשות        201809   \n",
       "2050  אלטשולר שחם פנסיה מקיפה מניות          קרנות חדשות        201810   \n",
       "2051  אלטשולר שחם פנסיה מקיפה מניות          קרנות חדשות        201811   \n",
       "2052  אלטשולר שחם פנסיה מקיפה מניות          קרנות חדשות        201812   \n",
       "\n",
       "      MONTHLY_YIELD  AVG_ANNUAL_MANAGEMENT_FEE  TOTAL_ASSETS  \n",
       "2048           3.05                       0.23         10.93  \n",
       "2049          -0.45                       0.23         12.02  \n",
       "2050          -5.15                       0.23         15.29  \n",
       "2051           1.14                       0.23         20.26  \n",
       "2052          -5.79                       0.23         25.64  "
      ]
     },
     "execution_count": 9,
     "metadata": {},
     "output_type": "execute_result"
    }
   ],
   "source": [
    "final_data = pd.concat(csv_arr)\n",
    "print(\"final csv shape: %s\" % (final_data.shape,))\n",
    "final_data.tail()"
   ]
  },
  {
   "cell_type": "code",
   "execution_count": 10,
   "metadata": {},
   "outputs": [],
   "source": [
    "final_data.to_csv(\"final_pensianet_investment.csv\",index=False)"
   ]
  },
  {
   "cell_type": "code",
   "execution_count": null,
   "metadata": {},
   "outputs": [],
   "source": []
  }
 ],
 "metadata": {
  "kernelspec": {
   "display_name": "Python 3",
   "language": "python",
   "name": "python3"
  },
  "language_info": {
   "codemirror_mode": {
    "name": "ipython",
    "version": 3
   },
   "file_extension": ".py",
   "mimetype": "text/x-python",
   "name": "python",
   "nbconvert_exporter": "python",
   "pygments_lexer": "ipython3",
   "version": "3.6.9"
  }
 },
 "nbformat": 4,
 "nbformat_minor": 4
}
